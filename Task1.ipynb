{
  "nbformat": 4,
  "nbformat_minor": 0,
  "metadata": {
    "colab": {
      "provenance": []
    },
    "kernelspec": {
      "name": "python3",
      "display_name": "Python 3"
    },
    "language_info": {
      "name": "python"
    }
  },
  "cells": [
    {
      "cell_type": "code",
      "execution_count": 1,
      "metadata": {
        "colab": {
          "base_uri": "https://localhost:8080/"
        },
        "id": "iAspTTe03p5N",
        "outputId": "38df612c-ddb7-492b-c4f9-de90c8b0cab9"
      },
      "outputs": [
        {
          "output_type": "stream",
          "name": "stdout",
          "text": [
            "Original List: [1, 2, 3, 4, 5]\n",
            "List after adding element: [1, 2, 3, 4, 5, 6]\n",
            "List after modifying element: [1, 2, 30, 4, 5, 6]\n",
            "List after removing element: [1, 2, 30, 5, 6]\n",
            "\n",
            "Original Dictionary: {'name': 'Alice', 'age': 30, 'city': 'New York'}\n",
            "Dictionary after adding key-value pair: {'name': 'Alice', 'age': 30, 'city': 'New York', 'job': 'Engineer'}\n",
            "Dictionary after modifying value: {'name': 'Alice', 'age': 31, 'city': 'New York', 'job': 'Engineer'}\n",
            "Dictionary after removing key-value pair: {'name': 'Alice', 'age': 31, 'job': 'Engineer'}\n",
            "\n",
            "Original Set: {1, 2, 3, 4, 5}\n",
            "Set after adding element: {1, 2, 3, 4, 5, 6}\n",
            "Set after removing element: {1, 2, 4, 5, 6}\n"
          ]
        }
      ],
      "source": [
        "# Creating a list\n",
        "my_list = [1, 2, 3, 4, 5]\n",
        "print(\"Original List:\", my_list)\n",
        "\n",
        "# Adding an element to the list\n",
        "my_list.append(6)\n",
        "print(\"List after adding element:\", my_list)\n",
        "\n",
        "# Modifying an element in the list\n",
        "my_list[2] = 30\n",
        "print(\"List after modifying element:\", my_list)\n",
        "\n",
        "# Removing an element from the list\n",
        "my_list.remove(4)\n",
        "print(\"List after removing element:\", my_list)\n",
        "\n",
        "print()  # Empty line for separation\n",
        "\n",
        "# Creating a dictionary\n",
        "my_dict = {\n",
        "    'name': 'Alice',\n",
        "    'age': 30,\n",
        "    'city': 'New York'\n",
        "}\n",
        "print(\"Original Dictionary:\", my_dict)\n",
        "# Adding a new key-value pair to the dictionary\n",
        "my_dict['job'] = 'Engineer'\n",
        "print(\"Dictionary after adding key-value pair:\", my_dict)\n",
        "\n",
        "# Modifying a value in the dictionary\n",
        "my_dict['age'] = 31\n",
        "print(\"Dictionary after modifying value:\", my_dict)\n",
        "\n",
        "# Removing a key-value pair from the dictionary\n",
        "del my_dict['city']\n",
        "print(\"Dictionary after removing key-value pair:\", my_dict)\n",
        "\n",
        "print()  # Empty line for separation\n",
        "\n",
        "# Creating a set\n",
        "my_set = {1, 2, 3, 4, 5}\n",
        "print(\"Original Set:\", my_set)\n",
        "# Adding an element to the set\n",
        "my_set.add(6)\n",
        "print(\"Set after adding element:\", my_set)\n",
        "\n",
        "# Removing an element from the set\n",
        "my_set.remove(3)\n",
        "print(\"Set after removing element:\", my_set)\n"
      ]
    }
  ]
}