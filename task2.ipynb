{
  "nbformat": 4,
  "nbformat_minor": 0,
  "metadata": {
    "colab": {
      "provenance": [],
      "authorship_tag": "ABX9TyNYOvygi4Uf9So4ZOFc6SU2",
      "include_colab_link": true
    },
    "kernelspec": {
      "name": "python3",
      "display_name": "Python 3"
    },
    "language_info": {
      "name": "python"
    }
  },
  "cells": [
    {
      "cell_type": "markdown",
      "metadata": {
        "id": "view-in-github",
        "colab_type": "text"
      },
      "source": [
        "<a href=\"https://colab.research.google.com/github/Murari225/mainflow/blob/main/task2.ipynb\" target=\"_parent\"><img src=\"https://colab.research.google.com/assets/colab-badge.svg\" alt=\"Open In Colab\"/></a>"
      ]
    },
    {
      "cell_type": "code",
      "execution_count": 8,
      "metadata": {
        "id": "8mSFdOjEgEAF"
      },
      "outputs": [],
      "source": [
        "import pandas as pd\n",
        "\n",
        "# Create a sample DataFrame\n",
        "data = {\n",
        "    \"Name\": [\"Alice\", \"Bob\", \"Charlie\", \"David\", \"Eva\", \"Frank\", \"Grace\"],\n",
        "    \"Age\": [25, 30, None, 45, 28, None, 33],\n",
        "    \"Gender\": [\"F\", \"M\", \"M\", \"M\", \"F\", \"M\", \"F\"],\n",
        "    \"Score\": [85, 90, None, 88, 76, None, 95]\n",
        "}\n",
        "\n",
        "df = pd.DataFrame(data)\n",
        "\n",
        "# Save the DataFrame to a CSV file\n",
        "input_csv_path = \"input_data.csv\"\n",
        "df.to_csv(input_csv_path, index=False)\n"
      ]
    },
    {
      "cell_type": "code",
      "source": [
        "import pandas as pd\n",
        "\n",
        "# Load the CSV file into a DataFrame\n",
        "df = pd.read_csv(\"input_data.csv\")\n",
        "\n",
        "# Perform operations\n",
        "\n",
        "# 1. Filter data: Select rows where Age is greater than 25\n",
        "filtered_df = df[df[\"Age\"] > 25]\n",
        "\n",
        "# 2. Handle missing values: Fill missing Age and Score with the mean of their respective columns\n",
        "filtered_df[\"Age\"].fillna(filtered_df[\"Age\"].mean(), inplace=True)\n",
        "filtered_df[\"Score\"].fillna(filtered_df[\"Score\"].mean(), inplace=True)\n",
        "\n",
        "# 3. Calculate summary statistics\n",
        "summary = filtered_df.describe()\n",
        "\n",
        "# Save the manipulated DataFrame to a new CSV file\n",
        "filtered_output_path = \"filtered_output.csv\"\n",
        "filtered_df.to_csv(filtered_output_path, index=False)\n",
        "\n",
        "# Save the summary statistics to another CSV file\n",
        "summary_output_path = \"summary_output.csv\"\n",
        "summary.to_csv(summary_output_path)\n",
        "\n",
        "(filtered_output_path, summary_output_path)\n"
      ],
      "metadata": {
        "colab": {
          "base_uri": "https://localhost:8080/"
        },
        "collapsed": true,
        "id": "UeYPvlGKiCgh",
        "outputId": "0a44e0c8-2c8c-49cf-8155-ed837664ed2d"
      },
      "execution_count": 7,
      "outputs": [
        {
          "output_type": "stream",
          "name": "stderr",
          "text": [
            "<ipython-input-7-89109f670357>:12: SettingWithCopyWarning: \n",
            "A value is trying to be set on a copy of a slice from a DataFrame\n",
            "\n",
            "See the caveats in the documentation: https://pandas.pydata.org/pandas-docs/stable/user_guide/indexing.html#returning-a-view-versus-a-copy\n",
            "  filtered_df[\"Age\"].fillna(filtered_df[\"Age\"].mean(), inplace=True)\n",
            "<ipython-input-7-89109f670357>:13: SettingWithCopyWarning: \n",
            "A value is trying to be set on a copy of a slice from a DataFrame\n",
            "\n",
            "See the caveats in the documentation: https://pandas.pydata.org/pandas-docs/stable/user_guide/indexing.html#returning-a-view-versus-a-copy\n",
            "  filtered_df[\"Score\"].fillna(filtered_df[\"Score\"].mean(), inplace=True)\n"
          ]
        },
        {
          "output_type": "execute_result",
          "data": {
            "text/plain": [
              "('filtered_output.csv', 'summary_output.csv')"
            ]
          },
          "metadata": {},
          "execution_count": 7
        }
      ]
    },
    {
      "cell_type": "code",
      "source": [],
      "metadata": {
        "id": "Nma7MR98iQ_L"
      },
      "execution_count": null,
      "outputs": []
    }
  ]
}